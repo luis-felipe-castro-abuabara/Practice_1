{
  "nbformat": 4,
  "nbformat_minor": 0,
  "metadata": {
    "colab": {
      "provenance": [],
      "authorship_tag": "ABX9TyPqMcZb53p0pqFaUj6PsmlU",
      "include_colab_link": true
    },
    "kernelspec": {
      "name": "python3",
      "display_name": "Python 3"
    },
    "language_info": {
      "name": "python"
    }
  },
  "cells": [
    {
      "cell_type": "markdown",
      "metadata": {
        "id": "view-in-github",
        "colab_type": "text"
      },
      "source": [
        "<a href=\"https://colab.research.google.com/github/luis-felipe-castro-abuabara/Practice_1/blob/main/Prueba%20Colab.ipynb\" target=\"_parent\"><img src=\"https://colab.research.google.com/assets/colab-badge.svg\" alt=\"Open In Colab\"/></a>"
      ]
    },
    {
      "cell_type": "markdown",
      "source": [
        "## Prueba 1"
      ],
      "metadata": {
        "id": "MY6jySKczCFq"
      }
    },
    {
      "cell_type": "code",
      "source": [
        "def prueba ():\n",
        "  x = \"Me llamo Luis\"\n",
        "  return print(x)\n",
        "prueba()"
      ],
      "metadata": {
        "colab": {
          "base_uri": "https://localhost:8080/"
        },
        "id": "tWk6sV7myCj2",
        "outputId": "beb78431-fa89-4bc2-c03b-8065cd926554"
      },
      "execution_count": 17,
      "outputs": [
        {
          "output_type": "stream",
          "name": "stdout",
          "text": [
            "Me llamo Luis\n"
          ]
        }
      ]
    },
    {
      "cell_type": "markdown",
      "source": [
        "## Prueba 2\n"
      ],
      "metadata": {
        "id": "Ye_dLwCTzAc2"
      }
    }
  ]
}